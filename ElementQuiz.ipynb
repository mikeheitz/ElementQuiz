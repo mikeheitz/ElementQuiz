{
 "cells": [
  {
   "cell_type": "markdown",
   "metadata": {},
   "source": [
    "# Final Project Required Coding Activity  \n",
    "Introduction to Python (Unit 2) Fundamentals  \n",
    "\n",
    "**This Activity is intended to be completed in the jupyter notebook, `Required_FINAL_Project_IntroPy.ipynb`, and then pasted into the assessment page that follows.**   \n",
    " \n",
    "All course .ipynb Jupyter Notebooks are available from the project files download topic in Module 1, Section 1.  \n",
    "\n",
    "This activity is based on modules 1 - 4 and is similar to exercises in the Jupyter Notebooks **`Practice_MOD03_IntroPy.ipynb`** and **`Practice_MOD04_IntroPy.ipynb`** which you may have completed as practice.\n",
    "\n",
    "| **Assignment Requirements** |\n",
    "|:-------------------------------|\n",
    "|This program requires the use of **`print`** output and use of  **`input`**, **`for`**/**`in`** loop, **`if`**, file **`open`**, **`.readline`**, **`.append`**, **`.strip`**, **`len`**. and function **`def`** and **`return`**. The code should also consider using most of the following (`.upper()` or `.lower()`, `.title()`, `print(\"hello\",end=\"\")` `else`, `elif`, `range()`, `while`, `.close()`) |\n",
    "\n",
    "\n",
    "## Program: Element_Quiz  \n",
    "In this program the user enters the name of any 5 of the first 20 Atomic Elements and is given a grade and test report for items correct and incorrect.  \n",
    "\n",
    "\n",
    "### Sample input and output:  \n",
    "```\n",
    "list any 5 of the first 20 elements in the Period table\n",
    "Enter the name of an element: argon\n",
    "Enter the name of an element: chlorine\n",
    "Enter the name of an element: sodium\n",
    "Enter the name of an element: argon\n",
    "argon was already entered          <--no duplicates allowed\n",
    "Enter the name of an element: helium\n",
    "Enter the name of an element: gold\n",
    "\n",
    "80 % correct\n",
    "Found: Argon Chlorine Sodium Helium \n",
    "Not Found: Gold \n",
    "```  \n",
    "\n",
    "\n",
    "### Create get_names() Function to collect input of 5 unique element names  \n",
    "\n",
    "- The function accepts no arguments and returns a list of 5 input strings (element names)  \n",
    "- define a list to hold the input\n",
    "- collect input of a element name  \n",
    "- if input it is **not** already in the list add the input to the list  \n",
    "- don't allow empty strings as input  \n",
    "- once 5 unique inputs **return** the list  \n",
    "\n",
    "\n",
    "### Create the Program flow  \n",
    "\n",
    "#### import the file into the Jupyter Notebook environment   \n",
    "\n",
    "- use `!curl` to download https://raw.githubusercontent.com/MicrosoftLearning/intropython/master/elements1_20.txt\" as `elements1_20.txt`  \n",
    "- open the file with the first 20 elements  \n",
    "- read one line at a time to get element names, remove any whitespace (spaces, newlines) and save each element name, as lowercase, into a list  \n",
    "\n",
    "\n",
    "####  Call the get_names() function  \n",
    "\n",
    "- the return value will be the quiz responses list  \n",
    "\n",
    "#### check if responses are in the list of elements  \n",
    "Iterate through 5 responses  \n",
    "- compare each response to the list of 20 elements\n",
    "  - any response that is in the list of 20 elements is correct and should be added to a list of correct responses  \n",
    "  - if not in the list of 20 elements then add to a list of incorrect responses  \n",
    "\n",
    "#### calculate the % correct  \n",
    " \n",
    " - find the the number of items in the correct responses and divide by 5, this will result in answers like 1.0, .8, .6,...  \n",
    " - to get the % multiple the calculated answer above by 100, this will result in answers like 100, 80, 60...  \n",
    " - *hint: instead of dividing by 5 and then multiplying by 100, the number of correct responses can be multiplied by 20*  \n",
    "\n",
    "#### Print output  \n",
    "\n",
    "- print the Score % right  \n",
    "- print each of the correct responses  \n",
    "- print each of the incorrect responses  \n",
    "\n",
    "\n",
    "### create Element_Quiz  then paste code on edX submission page\n",
    "\n"
   ]
  },
  {
   "cell_type": "code",
   "execution_count": 43,
   "metadata": {
    "scrolled": true
   },
   "outputs": [
    {
     "name": "stdout",
     "output_type": "stream",
     "text": [
      "  % Total    % Received % Xferd  Average Speed   Time    Time     Time  Current\n",
      "                                 Dload  Upload   Total   Spent    Left  Speed\n",
      "100   161  100   161    0     0   3221      0 --:--:-- --:--:-- --:--:--  3285\n",
      "List any 5 of the first 20 elements in the Periodic table\n",
      "\n",
      "Enter the name of an element: air\n",
      "Enter the name of an element: calcium\n",
      "Enter the name of an element: hydrogen\n",
      "Enter the name of an element: oxygen\n",
      "Enter the name of an element: neon\n",
      "80 % correct!\n",
      "Found:  ['calcium', 'hydrogen', 'oxygen', 'neon']\n",
      "Not Found:  ['air']\n"
     ]
    }
   ],
   "source": [
    "# [] create Element_Quiz\n",
    "# [] copy and paste in edX assignment page\n",
    "\n",
    "# import file\n",
    "!curl https://raw.githubusercontent.com/MicrosoftLearning/intropython/master/elements1_20.txt -o elements1_20.txt\n",
    "\n",
    "elements1_20 = open('elements1_20.txt', 'r')\n",
    "elem_list = elements1_20.readlines()\n",
    "elements1_20.seek(0)\n",
    "\n",
    "elem_str = []\n",
    "\n",
    "first_counter = 0\n",
    "while first_counter < 20:\n",
    "    elem_str += elements1_20.readline().lower().strip().split(',')\n",
    "    first_counter += 1\n",
    "    if first_counter >= 20:\n",
    "        break\n",
    "\n",
    "print(\"List any 5 of the first 20 elements in the Periodic table\\n\")\n",
    "elem_guess = []\n",
    "\n",
    "# function to collect input of 5 element names - no args - list elem_guess - no empty - 5 unique inputs, then return the list\n",
    "def get_names():\n",
    "    counter = 0\n",
    "    while counter < 5:\n",
    "        guess = input(\"Enter the name of an element: \")\n",
    "        if guess in elem_guess:\n",
    "            print(guess, \"was already entered\\t <--no duplicated allowed\")\n",
    "            pass\n",
    "        elif guess == \"\":\n",
    "            print(\"Nothing was entered! Try again!\")\n",
    "            pass\n",
    "        else:\n",
    "            elem_guess.append(guess)\n",
    "            counter += 1\n",
    "    return elem_guess\n",
    "           \n",
    "get_names()\n",
    "\n",
    "#variables for next section\n",
    "correct_guess = []\n",
    "incorrect_guess = []\n",
    "correct = 0\n",
    "incorrect = 0\n",
    "guess_counter = 0\n",
    "\n",
    "while guess_counter < 5:\n",
    "    for guess in elem_guess:\n",
    "        range(len(elem_list))    \n",
    "        if guess in elem_str:\n",
    "            correct_guess.append(guess)\n",
    "            guess_counter += 1\n",
    "            correct += 1\n",
    "        else:\n",
    "            incorrect_guess.append(guess)\n",
    "            guess_counter += 1\n",
    "            incorrect += 1\n",
    "\n",
    "pct_correct = correct * 20\n",
    "\n",
    "# print output\n",
    "print(pct_correct, \"% correct!\")\n",
    "print(\"Found: \", correct_guess)\n",
    "print(\"Not Found: \", incorrect_guess)\n"
   ]
  },
  {
   "cell_type": "code",
   "execution_count": 42,
   "metadata": {},
   "outputs": [
    {
     "data": {
      "text/plain": [
       "NoneType"
      ]
     },
     "execution_count": 42,
     "metadata": {},
     "output_type": "execute_result"
    }
   ],
   "source": [
    "type(elem_str)"
   ]
  },
  {
   "cell_type": "code",
   "execution_count": 35,
   "metadata": {},
   "outputs": [
    {
     "name": "stdout",
     "output_type": "stream",
     "text": [
      "['air', 'hydrogen', 'calcium', 'neon', 'oxygen']\n"
     ]
    }
   ],
   "source": [
    "print(elem_guess)"
   ]
  },
  {
   "cell_type": "code",
   "execution_count": 36,
   "metadata": {},
   "outputs": [
    {
     "name": "stdout",
     "output_type": "stream",
     "text": [
      "  % Total    % Received % Xferd  Average Speed   Time    Time     Time  Current\n",
      "                                 Dload  Upload   Total   Spent    Left  Speed\n",
      "100   161  100   161    0     0   2223      0 --:--:-- --:--:-- --:--:--  2267\n",
      "['hydrogen']\n",
      "['helium']\n",
      "['lithium']\n",
      "['beryllium']\n",
      "['boron']\n",
      "['carbon']\n",
      "['nitrogen']\n",
      "['oxygen']\n",
      "['fluorine']\n",
      "['neon']\n",
      "['sodium']\n",
      "['magnesium']\n",
      "['aluminum']\n",
      "['silicon']\n",
      "['phosphorus']\n",
      "['sulfur']\n",
      "['chlorine']\n",
      "['argon']\n",
      "['potassium']\n",
      "['calcium']\n"
     ]
    }
   ],
   "source": [
    "!curl https://raw.githubusercontent.com/MicrosoftLearning/intropython/master/elements1_20.txt -o elements1_20.txt\n",
    "\n",
    "elements1_20 = open('elements1_20.txt', 'r')\n",
    "elements1_20.seek(0)\n",
    "\n",
    "first_counter = 0\n",
    "while first_counter < 20:\n",
    "    elem_str = elements1_20.readline().lower().strip().split(',')\n",
    "    first_counter += 1\n",
    "    print(elem_str)\n",
    "\n"
   ]
  },
  {
   "cell_type": "markdown",
   "metadata": {},
   "source": [
    "# Important:  [How to submit code by pasting](https://courses.edx.org/courses/course-v1:Microsoft+DEV274x+2T2017/wiki/Microsoft.DEV274x.2T2017/paste-code-end-module-coding-assignments/)\n"
   ]
  },
  {
   "cell_type": "code",
   "execution_count": 37,
   "metadata": {},
   "outputs": [
    {
     "data": {
      "text/plain": [
       "list"
      ]
     },
     "execution_count": 37,
     "metadata": {},
     "output_type": "execute_result"
    }
   ],
   "source": [
    "type(elem_str)"
   ]
  },
  {
   "cell_type": "markdown",
   "metadata": {},
   "source": [
    "[Terms of use](http://go.microsoft.com/fwlink/?LinkID=206977) &nbsp; [Privacy & cookies](https://go.microsoft.com/fwlink/?LinkId=521839) &nbsp; © 2017 Microsoft"
   ]
  }
 ],
 "metadata": {
  "anaconda-cloud": {},
  "kernelspec": {
   "display_name": "Python 3",
   "language": "python",
   "name": "python3"
  },
  "language_info": {
   "codemirror_mode": {
    "name": "ipython",
    "version": 3
   },
   "file_extension": ".py",
   "mimetype": "text/x-python",
   "name": "python",
   "nbconvert_exporter": "python",
   "pygments_lexer": "ipython3",
   "version": "3.6.1"
  }
 },
 "nbformat": 4,
 "nbformat_minor": 1
}
